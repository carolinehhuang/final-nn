{
 "cells": [
  {
   "cell_type": "code",
   "execution_count": 1,
   "id": "84c0a44e-63d2-42ab-b0eb-38a980408e76",
   "metadata": {},
   "outputs": [],
   "source": [
    "import numpy as np\n",
    "from typing import List, Dict, Tuple, Union\n",
    "from numpy.typing import ArrayLike\n",
    "from nn import *\n",
    "import matplotlib.pyplot as plt"
   ]
  },
  {
   "cell_type": "code",
   "execution_count": 2,
   "id": "3a599a51-7c7f-4a93-8f4e-e0ef29bddddf",
   "metadata": {},
   "outputs": [],
   "source": [
    "#read in fasta files\n",
    "\n",
    "positives = read_text_file('data/rap1-lieb-positives.txt')\n",
    "negatives = read_fasta_file('data/yeast-upstream-1k-negative.fa')"
   ]
  },
  {
   "cell_type": "code",
   "execution_count": 3,
   "id": "603c156c-df87-41c5-8940-eaeef4632175",
   "metadata": {},
   "outputs": [],
   "source": [
    "#get length of the positive sequences\n",
    "new_negatives_len = len(positives[0])"
   ]
  },
  {
   "cell_type": "code",
   "execution_count": 4,
   "id": "799c68e5-8a50-4f39-b314-00e1ad9bff03",
   "metadata": {},
   "outputs": [],
   "source": [
    "import random\n",
    "\n",
    "# Randomly sample a substring of the same length of positive sequence from each negative sequence\n",
    "negative_seqs_trimmed = [\n",
    "    seq[random_start: random_start + new_negatives_len]  #get sequence starting from random start + length of the positive sequence\n",
    "    if len(seq) > new_negatives_len else seq \n",
    "    for seq in negatives\n",
    "    for random_start in [random.randint(0, len(seq) - new_negatives_len)]  # Assign random_start first to any number that's within the len of positive sequence\n",
    "]\n",
    "\n",
    "\n",
    "seqs_combined = positives + negative_seqs_trimmed #add the positive and negative datasets together\n",
    "classifications = [1] * len(positives) + [0] * len(negative_seqs_trimmed) #assign classifications with 1 = True and 0 = False for Rap1 binding sit"
   ]
  },
  {
   "cell_type": "code",
   "execution_count": 5,
   "id": "decfedb7-94fb-4d7b-94a6-000ab3995c3e",
   "metadata": {},
   "outputs": [],
   "source": [
    "import nn.preprocess as preprocess\n",
    "\n",
    "#randomly sample from positive group w replacement to balance sample numbers\n",
    "random_seqs, random_labels = preprocess.sample_seqs(seqs_combined, classifications)\n",
    "\n",
    "#one-hot encodes the lists of DNA sequences\n",
    "seqs_one_hot = preprocess.one_hot_encode_seqs(random_seqs)"
   ]
  },
  {
   "cell_type": "markdown",
   "id": "1b896868-c5f0-435f-baf9-d31c7db224cf",
   "metadata": {},
   "source": [
    "Rationale for sampling scheme:\n",
    "\n",
    "To deal with the class imbalance in the dataset, the negative sequences, since they were much longer, were first truncated to the same length as the positive sequences so that they could be compared. A sequence of 17 base pairs were sampled from the negative sequences at random, starting from a random location 17 or more basepairs away from the end of each sequence. This was to decrease the bias that might arise from sampling in the same location (the beginning of the sequence) every time. \n",
    "\n",
    "To give the model equal exposure to both positive and negative classes to aid training, sequences were selected with replacement to match the most prevalent class. This means that the positive samples are selected multiple times and more frequently than the negative samples. This strategy is used to balance the dataset. \n",
    "\n",
    "The smaller set of positive samples was oversampled to match the size of the negative samples in order to give the model more data to train with. However, this may result in inflated model performance metrics on the validation set since most if not all of the positive sequences will probably also be represented in the training set as well. "
   ]
  },
  {
   "cell_type": "code",
   "execution_count": 7,
   "id": "ede78647-5159-4c94-92ad-95ef8d5d0b0f",
   "metadata": {},
   "outputs": [],
   "source": [
    "from sklearn.model_selection import train_test_split\n",
    "\n",
    "#split the data into training and test sets, using an 80/20 split \n",
    "X_train, X_test, y_train, y_test = train_test_split(seqs_one_hot, random_labels, test_size = 0.2, random_state = 42)"
   ]
  },
  {
   "cell_type": "code",
   "execution_count": 8,
   "id": "5ee85e34-3bd0-496c-ad18-1a4a6e058cb0",
   "metadata": {},
   "outputs": [
    {
     "name": "stdout",
     "output_type": "stream",
     "text": [
      "Training size (5060, 68)\n",
      "Validation size (1266, 68)\n"
     ]
    }
   ],
   "source": [
    "print(\"Training size\", X_train.shape)\n",
    "print(\"Validation size\", X_test.shape)"
   ]
  },
  {
   "cell_type": "code",
   "execution_count": 9,
   "id": "b16bc933-db53-4133-8e52-4ebe5a8056b9",
   "metadata": {},
   "outputs": [],
   "source": [
    "#generate instance of Neural Network\n",
    "\n",
    "#architecture should take in the column dimension of the training and validation set \n",
    "nn_arch = [{'input_dim': 68, 'output_dim': 32, 'activation': 'relu'},\n",
    "           {'input_dim': 32, 'output_dim': 16, 'activation': 'relu'},\n",
    "           {'input_dim': 16, 'output_dim': 1, 'activation': 'sigmoid'}]\n",
    "\n",
    "\n",
    "dna_network = nn.NeuralNetwork(nn_arch=nn_arch, lr=0.02, seed=42, batch_size=100, epochs=250, loss_function = \"binary_cross_entropy\")"
   ]
  },
  {
   "cell_type": "markdown",
   "id": "1c72718f-9515-4bcd-9033-8b64ad69c2c7",
   "metadata": {},
   "source": [
    "Rationale for hyperparameters:\n",
    "\n",
    "Binary cross entropy was the loss function used because that is the standard classifer used to predict binary classes. \n",
    "\n",
    "The sigmoid function can also be used as the activation function since it is a logistic regression function that outputs a value between [0,1] that can be converted into binary. \n",
    "\n",
    "I started training at 1000 epochs, since that is what was ideal for the autoencoder, but it turned out to be much more than was needed to get good accuracy and minimal loss.\n",
    "\n",
    "I started training with the learning rate at 0.00005 as the hyperparameter that was used for the autoencoder, but this was much too small and showed very high loss and likely would've taken much too much time to converge, if it would converge at all. 0.02 was determined as a decent learning rate through trial and error, giving good accuracy with acceptable training times. \n",
    "\n",
    "A batch size of 100 was also sufficient to generate decent accuracy without costing too much run time"
   ]
  },
  {
   "cell_type": "code",
   "execution_count": 11,
   "id": "d1ce95f4-05b8-4ca2-96ac-020e8334e6df",
   "metadata": {},
   "outputs": [
    {
     "data": {
      "image/png": "[encoded data removed]",
      "text/plain": [
       "<Figure size 640x480 with 1 Axes>"
      ]
     },
     "metadata": {},
     "output_type": "display_data"
    }
   ],
   "source": [
    "train_loss, val_loss = dna_network.fit(np.array(X_train), np.array(y_train), np.array(X_test), np.array(y_test))\n",
    "\n",
    "plt.plot(train_loss)\n",
    "plt.plot(val_loss)\n",
    "plt.legend(labels = ['Training', 'Validation'])\n",
    "plt.xlabel('Epoch number')\n",
    "plt.ylabel('Per epoch loss')\n",
    "plt.show()"
   ]
  },
  {
   "cell_type": "code",
   "execution_count": 12,
   "id": "c0fa1e64-cad5-44d4-92c8-11de1f0a17fe",
   "metadata": {},
   "outputs": [
    {
     "name": "stdout",
     "output_type": "stream",
     "text": [
      "Validation data accuracy: 0.9984202211690363\n"
     ]
    }
   ],
   "source": [
    "#use the built in prediction function to predict the output of the X validation set based on the model we trained using our training data\n",
    "pred = dna_network.predict(X_test)\n",
    "\n",
    "#how logistic regression chooses a binary result\n",
    "pred_binary = np.where(pred > 0.5, 1, 0)\n",
    "\n",
    "#should be close to 1 in a good model\n",
    "print(f\"Validation data accuracy: {np.sum(pred_binary == y_test) / len(y_test)}\")"
   ]
  }
 ],
 "metadata": {
  "kernelspec": {
   "display_name": "Python 3 (ipykernel)",
   "language": "python",
   "name": "python3"
  },
  "language_info": {
   "codemirror_mode": {
    "name": "ipython",
    "version": 3
   },
   "file_extension": ".py",
   "mimetype": "text/x-python",
   "name": "python",
   "nbconvert_exporter": "python",
   "pygments_lexer": "ipython3",
   "version": "3.12.4"
  }
 },
 "nbformat": 4,
 "nbformat_minor": 5
}
